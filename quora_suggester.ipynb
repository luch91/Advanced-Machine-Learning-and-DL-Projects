{
 "cells": [
  {
   "cell_type": "markdown",
   "metadata": {},
   "source": [
    "### Quora Questions Suggester.\n",
    "\n",
    "An algorithm that will suggest similar questions based on the Quora dataset.\n",
    "\n",
    "The user can enter a question and the code retrieves the most similar questions from the dataset using the util.semantic_search method.\n",
    "\n",
    "This is a symmetric search task, as the search have the same length and content as the questions in the corpus.\n",
    "\n",
    "Quora Questions Dataset: https://www.quora.com/q/quoradata/First-Quora-Dataset-Release-Question-Pairs\n",
    "\n",
    "As embedding model, I used SBERT model quora-distilbert-multilingual, that is aligned for 100 languages, i.e, you can type a question in various languages and it will the closest questions in the corpus(questions in the corpus are mainly in English)"
   ]
  },
  {
   "cell_type": "code",
   "execution_count": null,
   "metadata": {},
   "outputs": [],
   "source": []
  }
 ],
 "metadata": {
  "language_info": {
   "name": "python"
  },
  "orig_nbformat": 4
 },
 "nbformat": 4,
 "nbformat_minor": 2
}
